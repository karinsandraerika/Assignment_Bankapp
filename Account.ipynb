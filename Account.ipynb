{
 "cells": [
  {
   "cell_type": "code",
   "execution_count": 1,
   "id": "72c68ac5",
   "metadata": {},
   "outputs": [],
   "source": [
    "class Account:\n",
    "    \n",
    "    def __init__(self, accountnr, balance = 0):\n",
    "        self.accountnr = accountnr\n",
    "        self.balance = balance\n",
    "    \n",
    "    def change_balance(self, sum):\n",
    "        if sum < 0 and abs(sum) > self.balance:\n",
    "            return False\n",
    "        self.balance += sum\n",
    "        return True\n",
    "        \n",
    "    def get_balance(self):\n",
    "        return self.balance"
   ]
  }
 ],
 "metadata": {
  "kernelspec": {
   "display_name": "Python 3 (ipykernel)",
   "language": "python",
   "name": "python3"
  },
  "language_info": {
   "codemirror_mode": {
    "name": "ipython",
    "version": 3
   },
   "file_extension": ".py",
   "mimetype": "text/x-python",
   "name": "python",
   "nbconvert_exporter": "python",
   "pygments_lexer": "ipython3",
   "version": "3.9.13"
  }
 },
 "nbformat": 4,
 "nbformat_minor": 5
}
