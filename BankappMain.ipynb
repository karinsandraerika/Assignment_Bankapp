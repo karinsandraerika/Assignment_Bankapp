{
 "cells": [
  {
   "cell_type": "code",
   "execution_count": 1,
   "id": "2fe6a75e",
   "metadata": {
    "scrolled": true
   },
   "outputs": [],
   "source": [
    "%run Customer.ipynb\n",
    "%run Account.ipynb\n",
    "%run Bank.ipynb"
   ]
  },
  {
   "cell_type": "markdown",
   "id": "c429719a",
   "metadata": {},
   "source": [
    "#### Read data from json file"
   ]
  },
  {
   "cell_type": "code",
   "execution_count": 2,
   "id": "bf1a7f7a",
   "metadata": {},
   "outputs": [],
   "source": [
    "import json\n",
    "with open(\"customers.json\", \"r\") as file:\n",
    "    customers_list_dict = json.load(file)\n",
    "# Loop over the list of dictionaries and save as objects to list\n",
    "customers_list = []\n",
    "for customer in customers_list_dict: \n",
    "    new_customer = Customer(customer[\"username\"], customer[\"password\"])\n",
    "    customers_list.append(new_customer)\n",
    "    for account in customer[\"accounts\"]:\n",
    "        new_account = Account(account[\"accountnr\"], account[\"balance\"])\n",
    "        new_customer.accounts.append(new_account)"
   ]
  },
  {
   "cell_type": "markdown",
   "id": "130dfce6",
   "metadata": {},
   "source": [
    "#### Create an instance of Bank"
   ]
  },
  {
   "cell_type": "code",
   "execution_count": 3,
   "id": "54b78577",
   "metadata": {},
   "outputs": [],
   "source": [
    "bank = Bank(customers_list)"
   ]
  },
  {
   "cell_type": "markdown",
   "id": "bbe77a97",
   "metadata": {},
   "source": [
    "#### Test all methods"
   ]
  },
  {
   "cell_type": "code",
   "execution_count": 4,
   "id": "11e5ac83",
   "metadata": {},
   "outputs": [
    {
     "name": "stdout",
     "output_type": "stream",
     "text": [
      "['Billie', 'Harry', 'Peter', 'Hani', 'Maud', 'Alex', 'Amalia']\n"
     ]
    }
   ],
   "source": [
    "# Get all customers from bank and print username for each.\n",
    "customers = bank.get_customers() \n",
    "print([customer.username for customer in customers])"
   ]
  },
  {
   "cell_type": "code",
   "execution_count": 9,
   "id": "21d76ae6",
   "metadata": {
    "scrolled": true
   },
   "outputs": [
    {
     "name": "stdout",
     "output_type": "stream",
     "text": [
      "True\n",
      "False\n",
      "['Billie', 'Harry', 'Peter', 'Hani', 'Maud', 'Alex', 'Amalia', 'Johanna']\n"
     ]
    }
   ],
   "source": [
    "# Add a customer, will return false if customer already exists.\n",
    "print(bank.add_customer(\"Johanna\", \"Pumpupthejam!!!\"))\n",
    "print(bank.add_customer(\"Billie\", \"anotherpassword\"))\n",
    "print([customer.username for customer in customers])"
   ]
  },
  {
   "cell_type": "code",
   "execution_count": 6,
   "id": "a5dc6761",
   "metadata": {},
   "outputs": [
    {
     "name": "stdout",
     "output_type": "stream",
     "text": [
      "Peter\n",
      "badpassword\n"
     ]
    }
   ],
   "source": [
    "# Get a specific customer based on username\n",
    "customer = bank.get_customer(\"Peter\")\n",
    "if customer is not None:\n",
    "    print(customer.username)\n",
    "    print(customer.get_password())"
   ]
  },
  {
   "cell_type": "code",
   "execution_count": 7,
   "id": "7aa4a9b6",
   "metadata": {},
   "outputs": [
    {
     "name": "stdout",
     "output_type": "stream",
     "text": [
      "True\n",
      "anteckningsblock3000\n",
      "True\n"
     ]
    }
   ],
   "source": [
    "# Change the password for the customer whose username is passed as argument.\n",
    "print(bank.change_customer_password(\"Peter\", \"badpassword\", \"anteckningsblock3000\"))\n",
    "print(customer.get_password())\n",
    "print(bank.change_customer_password(\"Peter\", \"anteckningsblock3000\", \"badpassword\")) # Change it back just to be able to reuse this cell"
   ]
  },
  {
   "cell_type": "code",
   "execution_count": 27,
   "id": "ef7d094f",
   "metadata": {},
   "outputs": [
    {
     "name": "stdout",
     "output_type": "stream",
     "text": [
      "['Billie', 'Harry', 'Peter', 'Hani', 'Maud', 'Alex', 'Amalia', 'Johanna', 'Jonathan']\n",
      "True\n",
      "True\n",
      "['Billie', 'Harry', 'Peter', 'Hani', 'Maud', 'Alex', 'Amalia']\n"
     ]
    }
   ],
   "source": [
    "# Remove a customer, will return false if no customer with that username exists.\n",
    "bank.add_customer(\"Jonathan\", \"forest732\")\n",
    "print([customer.username for customer in customers])\n",
    "print(bank.remove_customer(\"Jonathan\"))\n",
    "#print(bank.remove_customer(\"Johanna\"))\n",
    "print([customer.username for customer in customers])"
   ]
  },
  {
   "cell_type": "code",
   "execution_count": 10,
   "id": "6ccbde13",
   "metadata": {},
   "outputs": [
    {
     "name": "stdout",
     "output_type": "stream",
     "text": [
      "False\n",
      "True\n",
      "Johanna\n"
     ]
    }
   ],
   "source": [
    "# Login\n",
    "print(bank.login(\"Johanna\", \"WrongPassword\"))\n",
    "print(bank.login(\"Johanna\", \"Pumpupthejam!!!\"))\n",
    "print(bank.current_customer.username)"
   ]
  },
  {
   "cell_type": "code",
   "execution_count": 11,
   "id": "dda2d782",
   "metadata": {},
   "outputs": [
    {
     "name": "stdout",
     "output_type": "stream",
     "text": [
      "None\n"
     ]
    }
   ],
   "source": [
    "# Logout\n",
    "bank.logout()\n",
    "print(bank.current_customer)"
   ]
  },
  {
   "cell_type": "code",
   "execution_count": 12,
   "id": "c7792db9",
   "metadata": {},
   "outputs": [
    {
     "name": "stdout",
     "output_type": "stream",
     "text": [
      "True\n",
      "False\n",
      "True\n"
     ]
    }
   ],
   "source": [
    "# Add an account for current customer. Will return false if the account already exists.\n",
    "bank.login(\"Johanna\", \"Pumpupthejam!!!\")\n",
    "print(bank.add_account(\"321-96352\"))\n",
    "print(bank.add_account(\"321-96352\"))\n",
    "print(bank.add_account(\"321-96353\"))"
   ]
  },
  {
   "cell_type": "code",
   "execution_count": 13,
   "id": "8e9d8643",
   "metadata": {},
   "outputs": [
    {
     "name": "stdout",
     "output_type": "stream",
     "text": [
      "['321-96352', '321-96353']\n"
     ]
    }
   ],
   "source": [
    "# Get all accounts for current customer.\n",
    "accounts = bank.get_accounts()\n",
    "if accounts is not None:\n",
    "    print([account.accountnr for account in accounts])\n",
    "    "
   ]
  },
  {
   "cell_type": "code",
   "execution_count": 14,
   "id": "c44302cc",
   "metadata": {},
   "outputs": [
    {
     "name": "stdout",
     "output_type": "stream",
     "text": [
      "Accountnr: 321-96353. Balance: 0\n"
     ]
    }
   ],
   "source": [
    "# Get specific account for current customer.\n",
    "account = bank.get_account(\"321-96353\")\n",
    "if account is not None:\n",
    "    print(f\"Accountnr: {account.accountnr}. Balance: {account.balance}\")"
   ]
  },
  {
   "cell_type": "code",
   "execution_count": 15,
   "id": "3a5791b4",
   "metadata": {},
   "outputs": [
    {
     "name": "stdout",
     "output_type": "stream",
     "text": [
      "['321-96352', '321-96353']\n",
      "True\n",
      "False\n",
      "['321-96353']\n"
     ]
    }
   ],
   "source": [
    "# Remove an account for current customer\n",
    "print([account.accountnr for account in accounts])\n",
    "print(bank.remove_account(\"321-96352\"))\n",
    "print(bank.remove_account(\"321-96352\"))\n",
    "customer = bank.get_customer(\"Johanna\")\n",
    "print([account.accountnr for account in customer.accounts])"
   ]
  },
  {
   "cell_type": "code",
   "execution_count": 26,
   "id": "2ba8104c",
   "metadata": {},
   "outputs": [
    {
     "name": "stdout",
     "output_type": "stream",
     "text": [
      "True\n",
      "600\n",
      "False\n",
      "True\n",
      "700\n"
     ]
    }
   ],
   "source": [
    "# Deposit money in account for current customer.\n",
    "print(bank.login(\"Johanna\", \"Pumpupthejam!!!\"))\n",
    "account = bank.get_account(\"321-96353\")\n",
    "if account is not None:\n",
    "    print(account.get_balance())\n",
    "print(bank.deposit(\"321-96353\", -100)) # Will return false if amount is minus.\n",
    "print(bank.deposit(\"321-96353\", 100))\n",
    "if account is not None:\n",
    "    print(account.get_balance())"
   ]
  },
  {
   "cell_type": "code",
   "execution_count": 20,
   "id": "c3bb54ed",
   "metadata": {},
   "outputs": [
    {
     "name": "stdout",
     "output_type": "stream",
     "text": [
      "200\n",
      "True\n",
      "False\n",
      "False\n",
      "100\n"
     ]
    }
   ],
   "source": [
    "# Withdraw money.\n",
    "if account is not None:\n",
    "    print(account.get_balance())\n",
    "print(bank.withdraw(\"321-96353\", -100))\n",
    "print(bank.withdraw(\"321-96353\", -1000000000)) # Try to remove an amount that would set balance to minus - False.\n",
    "print(bank.withdraw(\"321-96353\", 100))\n",
    "if account is not None:\n",
    "    print(account.get_balance())"
   ]
  },
  {
   "cell_type": "markdown",
   "id": "5e1e4206",
   "metadata": {},
   "source": [
    "#### Save the data to the json file"
   ]
  },
  {
   "cell_type": "code",
   "execution_count": 28,
   "id": "13725d24",
   "metadata": {},
   "outputs": [],
   "source": [
    "# Save the data to the json file\n",
    "customers_list_dict = []\n",
    "customers = bank.get_customers()\n",
    "for customer in customers:\n",
    "    customers_list_dict.append(customer.make_dictionary())\n",
    "import json\n",
    "json_data = json.dumps(customers_list_dict, indent=2)\n",
    "with open(\"customers.json\", \"w\") as file:\n",
    "    file.write(json_data)"
   ]
  }
 ],
 "metadata": {
  "kernelspec": {
   "display_name": "Python 3 (ipykernel)",
   "language": "python",
   "name": "python3"
  },
  "language_info": {
   "codemirror_mode": {
    "name": "ipython",
    "version": 3
   },
   "file_extension": ".py",
   "mimetype": "text/x-python",
   "name": "python",
   "nbconvert_exporter": "python",
   "pygments_lexer": "ipython3",
   "version": "3.9.13"
  }
 },
 "nbformat": 4,
 "nbformat_minor": 5
}
