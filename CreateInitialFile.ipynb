{
 "cells": [
  {
   "cell_type": "code",
   "execution_count": 1,
   "id": "fcfb7c85",
   "metadata": {},
   "outputs": [],
   "source": [
    "%run Customer.ipynb\n",
    "%run Account.ipynb"
   ]
  },
  {
   "cell_type": "code",
   "execution_count": 2,
   "id": "9a498b2c",
   "metadata": {},
   "outputs": [],
   "source": [
    "# Create a list of Customers as dictionaries\n",
    "customers_list_dict = [Customer(\"Billie\", \"UntzUntz3000!\").__dict__, Customer(\"Harry\", \"rullaHatt100%\").__dict__, \n",
    "                  Customer(\"Peter\", \"badpassword\").__dict__, Customer(\"Hani\", \"MoneyXL543c&\").__dict__, \n",
    "                  Customer(\"Maud\", \"MorkasSmb90.\").__dict__, Customer(\"Alex\", \"MyBankPassword123\").__dict__, \n",
    "                  Customer(\"Amalia\", \"UnAvion1920#\").__dict__]"
   ]
  },
  {
   "cell_type": "code",
   "execution_count": 3,
   "id": "d18953b4",
   "metadata": {},
   "outputs": [],
   "source": [
    "import json\n",
    "json_data = json.dumps(customers_list_dict, indent=2)\n",
    "with open(\"customers.json\", \"w\") as file:\n",
    "    file.write(json_data)"
   ]
  }
 ],
 "metadata": {
  "kernelspec": {
   "display_name": "Python 3 (ipykernel)",
   "language": "python",
   "name": "python3"
  },
  "language_info": {
   "codemirror_mode": {
    "name": "ipython",
    "version": 3
   },
   "file_extension": ".py",
   "mimetype": "text/x-python",
   "name": "python",
   "nbconvert_exporter": "python",
   "pygments_lexer": "ipython3",
   "version": "3.9.13"
  }
 },
 "nbformat": 4,
 "nbformat_minor": 5
}
