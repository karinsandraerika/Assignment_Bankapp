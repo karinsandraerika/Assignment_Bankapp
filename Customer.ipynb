{
 "cells": [
  {
   "cell_type": "code",
   "execution_count": 1,
   "id": "259a1bfd",
   "metadata": {},
   "outputs": [],
   "source": [
    "%run Account.ipynb"
   ]
  },
  {
   "cell_type": "code",
   "execution_count": 1,
   "id": "78f419c8",
   "metadata": {},
   "outputs": [],
   "source": [
    "class Customer:\n",
    "    # Set variables as private, and create getters\n",
    "    def __init__(self, username, password):\n",
    "        self.username = username\n",
    "        self.password = password\n",
    "        self.accounts = []\n",
    "        \n",
    "    def make_dictionary(self):\n",
    "        dictionary = {\"username\": self.username, \"password\": self.password, \"accounts\":[]}\n",
    "        for account in self.accounts:\n",
    "            dictionary[\"accounts\"].append(account.__dict__)\n",
    "        return dictionary\n",
    "    \n",
    "    def get_password(self):\n",
    "        return self.password\n",
    "    \n",
    "    def check_password(self, password):\n",
    "        if self.password == password:\n",
    "            return True\n",
    "        return False\n",
    "    \n",
    "    def change_password(self, old_password, new_password):\n",
    "        if self.check_password(old_password):\n",
    "            self.password = new_password\n",
    "            return True\n",
    "        return False\n",
    "    \n",
    "    def add_account(self, account):\n",
    "        self.accounts.append(account)\n",
    "        return True\n",
    "        \n",
    "    def get_account(self, account_number):\n",
    "        for account in self.accounts:\n",
    "            if account.accountnr == account_number:\n",
    "                return account\n",
    "    \n",
    "    def get_accounts(self):\n",
    "        return self.accounts\n",
    "        \n",
    "    def remove_account(self, account_number):\n",
    "        account = self.get_account(account_number)\n",
    "        if account is None:\n",
    "            return False\n",
    "        self.accounts.remove(account)\n",
    "        return True\n",
    "        "
   ]
  }
 ],
 "metadata": {
  "kernelspec": {
   "display_name": "Python 3 (ipykernel)",
   "language": "python",
   "name": "python3"
  },
  "language_info": {
   "codemirror_mode": {
    "name": "ipython",
    "version": 3
   },
   "file_extension": ".py",
   "mimetype": "text/x-python",
   "name": "python",
   "nbconvert_exporter": "python",
   "pygments_lexer": "ipython3",
   "version": "3.9.13"
  }
 },
 "nbformat": 4,
 "nbformat_minor": 5
}
